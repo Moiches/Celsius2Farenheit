{
  "nbformat": 4,
  "nbformat_minor": 0,
  "metadata": {
    "colab": {
      "provenance": [],
      "toc_visible": true
    },
    "kernelspec": {
      "name": "python3",
      "display_name": "Python 3"
    },
    "language_info": {
      "name": "python"
    }
  },
  "cells": [
    {
      "cell_type": "code",
      "execution_count": 15,
      "metadata": {
        "id": "kukaJPUkqZTs"
      },
      "outputs": [],
      "source": [
        "import tensorflow as tf\n",
        "import numpy as np"
      ]
    },
    {
      "cell_type": "code",
      "source": [
        "celsius = np.array([-40,-10,0,8,15,22,38], dtype=float)\n",
        "farenheit = np.array([-40,14,32,46,59,72,100], dtype= float)"
      ],
      "metadata": {
        "id": "0akVSeLGqjcP"
      },
      "execution_count": 16,
      "outputs": []
    },
    {
      "cell_type": "markdown",
      "source": [
        "# Red Neuronal\n"
      ],
      "metadata": {
        "id": "168ryuDJrm0c"
      }
    },
    {
      "cell_type": "code",
      "source": [
        "#en keras puedo esecificar la capa de salida, o las dos de entrada y 2 de salida\n",
        "#capa = tf.keras.layers.Dense(units = 1, input_shape=[1])\n",
        "#las capas densas son las que tienen conexiones desde una neurona a cada una de las neuronas de la siguiente capa\n",
        "#inputshape autoregistar la capa de entrada con una neurona, units indica el numero de neuronas\n",
        "#units hace referencia a las neuronas presentes en la capa\n",
        "\n",
        "#agregando mas capa\n",
        "oculta1 =  tf.keras.layers.Dense(units = 3, input_shape=[1])\n",
        "oculta2 = tf.keras.layers.Dense(units= 3)\n",
        "salida = tf.keras.layers.Dense(units= 1)\n",
        "\n",
        "\n",
        "\n",
        "#necesito dar un modelo dekeras para darles las capas y poder trabajar con el\n",
        "modelo = tf.keras.Sequential([oculta1, oculta2, salida])\n",
        "\n"
      ],
      "metadata": {
        "id": "KSvBaeV8rsfr"
      },
      "execution_count": 35,
      "outputs": []
    },
    {
      "cell_type": "code",
      "source": [
        "#Una vez tenemos el modelo listo el siguiente paso el compilarlo, lo cual prepara el modelo para ser entrenado\n",
        "#establecemos ciertas propiedades para poder indicarle como puede aprender mejor\n",
        "\n",
        "#en este caso ponemos las propiedades optimizador u funcion de perdida\n",
        "\n",
        "#usamos Adam para ajustar pesos y sesgos de manera eficiente de tal manera que asegure que el modelo aprende y no desaprende\n",
        "modelo.compile(\n",
        "    optimizer = tf.keras.optimizers.Adam(0.1), # el valor numerico indca que tanto puede cambiar el valor numerico\n",
        "    loss ='mean_squared_error' #esta funcion considera que  una poca cantidad de errores grandes es peor que una cantidad de grande de\n",
        "    #errores pequeños\n",
        "    )\n"
      ],
      "metadata": {
        "id": "s-2KGIkhtf3x"
      },
      "execution_count": 36,
      "outputs": []
    },
    {
      "cell_type": "code",
      "source": [
        "print(\"comenzando el entrenamiento...\")\n",
        "historial =  modelo.fit(celsius, farenheit, epochs = 1000, verbose= False) #para entrenar el modelo utilizamos la funcion fit, indicamos los datos de entrada (celsius) y resultados esperados (farenheit)\n",
        "print(\"¡Modelo entrenado!\")\n"
      ],
      "metadata": {
        "colab": {
          "base_uri": "https://localhost:8080/"
        },
        "id": "Dv551wAau5BP",
        "outputId": "f8786def-8ba5-4f37-9d95-f5b9aa9f457f"
      },
      "execution_count": 37,
      "outputs": [
        {
          "output_type": "stream",
          "name": "stdout",
          "text": [
            "comenzando el entrenamiento...\n",
            "¡Modelo entrenado!\n"
          ]
        }
      ]
    },
    {
      "cell_type": "code",
      "source": [
        "#Antes de hacer predicciones veamos el resultado de la funcion de perdida\n",
        "#esta funcion nos dice que tan mal estan los resultados de la red en cada vuelta que dio\n",
        "import matplotlib.pyplot as plt\n",
        "plt.xlabel(\"# Epoca\")\n",
        "plt.ylabel(\"Magnitud perdida\")\n",
        "plt.plot(historial.history[\"loss\"])\n",
        "\n",
        "\n",
        "\n"
      ],
      "metadata": {
        "colab": {
          "base_uri": "https://localhost:8080/",
          "height": 467
        },
        "id": "KOwbqODuvyp8",
        "outputId": "dbb13bc9-c233-46bc-924b-e3ca9ba8e1bc"
      },
      "execution_count": 38,
      "outputs": [
        {
          "output_type": "execute_result",
          "data": {
            "text/plain": [
              "[<matplotlib.lines.Line2D at 0x7e0ec02ed7e0>]"
            ]
          },
          "metadata": {},
          "execution_count": 38
        },
        {
          "output_type": "display_data",
          "data": {
            "text/plain": [
              "<Figure size 640x480 with 1 Axes>"
            ],
            "image/png": "[encoded data removed]"
          },
          "metadata": {}
        }
      ]
    },
    {
      "cell_type": "code",
      "source": [
        "#Tiempo de hacer la ´prediccion\n",
        "print(\"Hagamos una prediccion\")\n",
        "#USAMOS LA funcion predict\n",
        "resultado = modelo.predict([200.0])\n",
        "print(\"El resltado es \" + str(resultado) +  \" Farenheit\")"
      ],
      "metadata": {
        "colab": {
          "base_uri": "https://localhost:8080/"
        },
        "id": "S19qEh-3xYXn",
        "outputId": "9f6b2387-b2db-40ac-9912-21562c221b68"
      },
      "execution_count": 39,
      "outputs": [
        {
          "output_type": "stream",
          "name": "stdout",
          "text": [
            "Hagamos una prediccion\n",
            "1/1 [==============================] - 0s 62ms/step\n",
            "El resltado es [[391.54236]] Farenheit\n"
          ]
        }
      ]
    },
    {
      "cell_type": "code",
      "source": [
        "print(\"Variables internas del modelo \")\n",
        "print(oculta1.get_weights())\n",
        "print(oculta2.get_weights())\n",
        "print(salida.get_weights())\n"
      ],
      "metadata": {
        "colab": {
          "base_uri": "https://localhost:8080/"
        },
        "id": "lBdWOFokyJhB",
        "outputId": "16e46b2e-1da7-45f0-919e-27d1245f1397"
      },
      "execution_count": 41,
      "outputs": [
        {
          "output_type": "stream",
          "name": "stdout",
          "text": [
            "Variables internas del modelo \n",
            "[array([[ 0.21029076, -0.39516723,  0.46958518]], dtype=float32), array([-2.7497277, -3.4716585,  3.29081  ], dtype=float32)]\n",
            "[array([[ 0.561438  , -0.13697167, -0.9061399 ],\n",
            "       [ 1.3569412 ,  0.92572266, -0.605772  ],\n",
            "       [-1.1442854 ,  0.8028113 ,  0.03711123]], dtype=float32), array([-3.3814843, -0.4575417,  2.4436798], dtype=float32)]\n",
            "[array([[-1.842715  ],\n",
            "       [-0.00517472],\n",
            "       [ 0.56080824]], dtype=float32), array([3.237889], dtype=float32)]\n"
          ]
        }
      ]
    }
  ]
}